{
  "nbformat": 4,
  "nbformat_minor": 0,
  "metadata": {
    "colab": {
      "name": "disc",
      "provenance": [],
      "authorship_tag": "ABX9TyPghxRG9jVLfq+MndSn3v7g",
      "include_colab_link": true
    },
    "kernelspec": {
      "name": "python3",
      "display_name": "Python 3"
    },
    "language_info": {
      "name": "python"
    }
  },
  "cells": [
    {
      "cell_type": "markdown",
      "metadata": {
        "id": "view-in-github",
        "colab_type": "text"
      },
      "source": [
        "<a href=\"https://colab.research.google.com/github/Bhanu9951/python-programs/blob/main/disc.ipynb\" target=\"_parent\"><img src=\"https://colab.research.google.com/assets/colab-badge.svg\" alt=\"Open In Colab\"/></a>"
      ]
    },
    {
      "cell_type": "code",
      "execution_count": 15,
      "metadata": {
        "colab": {
          "base_uri": "https://localhost:8080/"
        },
        "id": "fovganlIVxGQ",
        "outputId": "1df0e46c-d654-4a15-84f6-dc21e6d942ec"
      },
      "outputs": [
        {
          "output_type": "stream",
          "name": "stdout",
          "text": [
            "['apple', ' mango', 'pineapple', 'papaya', 'grapes']\n",
            "['apple', ' mango', 'pineapple']\n",
            "papaya\n",
            "[' mango', 'pineapple', 'papaya', 'grapes']\n",
            "[' mango', 'pineapple']\n"
          ]
        }
      ],
      "source": [
        "fruits=[\"apple\",\" mango\",\"pineapple\",\"papaya\",\"grapes\"]\n",
        "print(fruits)\n",
        "print(fruits[0:3])\n",
        "print(fruits[3])\n",
        "print(fruits[1:])\n",
        "print(fruits[1:3])\n"
      ]
    },
    {
      "cell_type": "code",
      "source": [
        ""
      ],
      "metadata": {
        "id": "R14wogELXbgK"
      },
      "execution_count": null,
      "outputs": []
    },
    {
      "cell_type": "markdown",
      "source": [
        "Append"
      ],
      "metadata": {
        "id": "g01sOvZ5aB3P"
      }
    },
    {
      "cell_type": "code",
      "source": [
        "fruits=[\"apple\",\" mango\",\"pineapple\",\"papaya\",\"grapes\"]\n",
        "print(fruits)\n",
        "## append the list\n",
        "fruits.append(\"star fruit\")\n",
        "print(fruits)\n",
        "## inserting list\n",
        "fruits.insert(2,\"lemon\")\n",
        "print(fruits)\n",
        "## removing from the list\n",
        "fruits.remove(\"star fruit\")\n",
        "print(fruits)\n",
        "## pop from the list\n",
        "fruits.pop(2)\n",
        "print(fruits)\n",
        "##reverse of the list\n",
        "fruits.reverse()\n",
        "print(fruits)\n",
        "## sort with numbers\n",
        "num=[110,54,94,58,328]\n",
        "num.sort()\n",
        "print(num)\n",
        "num=[\"A\",\"B\",\"C\",\"D\"]\n",
        "alph.sort()\n",
        "print(alph)\n",
        "\n",
        "\n"
      ],
      "metadata": {
        "colab": {
          "base_uri": "https://localhost:8080/",
          "height": 372
        },
        "id": "Tox_aEnWaIg5",
        "outputId": "669fd7f6-09d5-412e-aa07-c41acd8e1a2c"
      },
      "execution_count": 39,
      "outputs": [
        {
          "output_type": "stream",
          "name": "stdout",
          "text": [
            "['apple', ' mango', 'pineapple', 'papaya', 'grapes']\n",
            "['apple', ' mango', 'pineapple', 'papaya', 'grapes', 'star fruit']\n",
            "['apple', ' mango', 'lemon', 'pineapple', 'papaya', 'grapes', 'star fruit']\n",
            "['apple', ' mango', 'lemon', 'pineapple', 'papaya', 'grapes']\n",
            "['apple', ' mango', 'pineapple', 'papaya', 'grapes']\n",
            "['grapes', 'papaya', 'pineapple', ' mango', 'apple']\n",
            "[54, 58, 94, 110, 328]\n"
          ]
        },
        {
          "output_type": "error",
          "ename": "NameError",
          "evalue": "ignored",
          "traceback": [
            "\u001b[0;31m---------------------------------------------------------------------------\u001b[0m",
            "\u001b[0;31mNameError\u001b[0m                                 Traceback (most recent call last)",
            "\u001b[0;32m<ipython-input-39-caed07ac04a6>\u001b[0m in \u001b[0;36m<module>\u001b[0;34m()\u001b[0m\n\u001b[1;32m     21\u001b[0m \u001b[0mprint\u001b[0m\u001b[0;34m(\u001b[0m\u001b[0mnum\u001b[0m\u001b[0;34m)\u001b[0m\u001b[0;34m\u001b[0m\u001b[0;34m\u001b[0m\u001b[0m\n\u001b[1;32m     22\u001b[0m \u001b[0mnum\u001b[0m\u001b[0;34m=\u001b[0m\u001b[0;34m[\u001b[0m\u001b[0;34m\"A\"\u001b[0m\u001b[0;34m,\u001b[0m\u001b[0;34m\"B\"\u001b[0m\u001b[0;34m,\u001b[0m\u001b[0;34m\"C\"\u001b[0m\u001b[0;34m,\u001b[0m\u001b[0;34m\"D\"\u001b[0m\u001b[0;34m]\u001b[0m\u001b[0;34m\u001b[0m\u001b[0;34m\u001b[0m\u001b[0m\n\u001b[0;32m---> 23\u001b[0;31m \u001b[0malph\u001b[0m\u001b[0;34m.\u001b[0m\u001b[0msort\u001b[0m\u001b[0;34m(\u001b[0m\u001b[0;34m)\u001b[0m\u001b[0;34m\u001b[0m\u001b[0;34m\u001b[0m\u001b[0m\n\u001b[0m\u001b[1;32m     24\u001b[0m \u001b[0mprint\u001b[0m\u001b[0;34m(\u001b[0m\u001b[0malph\u001b[0m\u001b[0;34m)\u001b[0m\u001b[0;34m\u001b[0m\u001b[0;34m\u001b[0m\u001b[0m\n\u001b[1;32m     25\u001b[0m \u001b[0;34m\u001b[0m\u001b[0m\n",
            "\u001b[0;31mNameError\u001b[0m: name 'alph' is not defined"
          ]
        }
      ]
    },
    {
      "cell_type": "code",
      "source": [
        ""
      ],
      "metadata": {
        "id": "AswkcFhdcB9l"
      },
      "execution_count": null,
      "outputs": []
    }
  ]
}