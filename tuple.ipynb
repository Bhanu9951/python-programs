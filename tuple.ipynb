{
  "nbformat": 4,
  "nbformat_minor": 0,
  "metadata": {
    "colab": {
      "name": "tuple",
      "provenance": [],
      "authorship_tag": "ABX9TyPCgfXzY3C4xvG9Py77MjeK",
      "include_colab_link": true
    },
    "kernelspec": {
      "name": "python3",
      "display_name": "Python 3"
    },
    "language_info": {
      "name": "python"
    }
  },
  "cells": [
    {
      "cell_type": "markdown",
      "metadata": {
        "id": "view-in-github",
        "colab_type": "text"
      },
      "source": [
        "<a href=\"https://colab.research.google.com/github/Bhanu9951/python-programs/blob/main/tuple.ipynb\" target=\"_parent\"><img src=\"https://colab.research.google.com/assets/colab-badge.svg\" alt=\"Open In Colab\"/></a>"
      ]
    },
    {
      "cell_type": "code",
      "execution_count": 1,
      "metadata": {
        "colab": {
          "base_uri": "https://localhost:8080/"
        },
        "id": "L2vyB9ojvbws",
        "outputId": "766c6b5f-42ac-4480-d76b-c2b1755f003d"
      },
      "outputs": [
        {
          "output_type": "stream",
          "name": "stdout",
          "text": [
            "('rrr', 'jai lava kusa', 'simha')\n"
          ]
        }
      ],
      "source": [
        "movies=(\"rrr\",\"jai lava kusa\",\"simha\")\n",
        "print(movies)"
      ]
    },
    {
      "cell_type": "code",
      "source": [
        "##tuple length"
      ],
      "metadata": {
        "id": "4PkXN9drwTdc"
      },
      "execution_count": 2,
      "outputs": []
    },
    {
      "cell_type": "code",
      "source": [
        "movies=(\"rrr\",\"jai lava kusa\",\"simha\")\n",
        "print(len(movies))"
      ],
      "metadata": {
        "colab": {
          "base_uri": "https://localhost:8080/"
        },
        "id": "OleTLe55wh5U",
        "outputId": "415d41f7-c434-4a07-b381-8ef0d0b85b59"
      },
      "execution_count": 4,
      "outputs": [
        {
          "output_type": "stream",
          "name": "stdout",
          "text": [
            "3\n"
          ]
        }
      ]
    },
    {
      "cell_type": "code",
      "source": [
        "##create the tuple with one item"
      ],
      "metadata": {
        "id": "wcqfA-Nuwoss"
      },
      "execution_count": 5,
      "outputs": []
    },
    {
      "cell_type": "code",
      "source": [
        "movies=(\"rrr\",)\n",
        "print(type(movies))\n",
        "## not a tuple\n",
        "movies=(\"rrr\")\n",
        "print(type(movies))"
      ],
      "metadata": {
        "colab": {
          "base_uri": "https://localhost:8080/"
        },
        "id": "xQqjhrqiw1ok",
        "outputId": "59e36f00-d362-4b10-c801-b203b723b7e5"
      },
      "execution_count": 9,
      "outputs": [
        {
          "output_type": "stream",
          "name": "stdout",
          "text": [
            "<class 'tuple'>\n",
            "<class 'str'>\n"
          ]
        }
      ]
    },
    {
      "cell_type": "code",
      "source": [
        "## access the tuple items"
      ],
      "metadata": {
        "id": "X4tSOHJOw4IE"
      },
      "execution_count": 10,
      "outputs": []
    },
    {
      "cell_type": "code",
      "source": [
        "movies=(\"rrr\",\"jai lava kusa\",\"simha\")\n",
        "print(movies[:2])"
      ],
      "metadata": {
        "colab": {
          "base_uri": "https://localhost:8080/"
        },
        "id": "UvUcIt5Px5nE",
        "outputId": "57648604-a1cc-4c0d-9702-8084cff53a91"
      },
      "execution_count": 13,
      "outputs": [
        {
          "output_type": "stream",
          "name": "stdout",
          "text": [
            "('rrr', 'jai lava kusa')\n"
          ]
        }
      ]
    },
    {
      "cell_type": "code",
      "source": [
        "## negative indexing"
      ],
      "metadata": {
        "id": "s-XWmlNOyEU0"
      },
      "execution_count": 14,
      "outputs": []
    },
    {
      "cell_type": "code",
      "source": [
        "movies=(\"rrr\",\"jai lava kusa\",\"simha\")\n",
        "print(movies[-1])"
      ],
      "metadata": {
        "colab": {
          "base_uri": "https://localhost:8080/"
        },
        "id": "XhPaZ3qIyMEz",
        "outputId": "f62faa87-4f32-40cd-8605-14eedeb236cc"
      },
      "execution_count": 16,
      "outputs": [
        {
          "output_type": "stream",
          "name": "stdout",
          "text": [
            "simha\n"
          ]
        }
      ]
    },
    {
      "cell_type": "code",
      "source": [
        "## range of index"
      ],
      "metadata": {
        "id": "CgrAwyA5yRxU"
      },
      "execution_count": 17,
      "outputs": []
    },
    {
      "cell_type": "code",
      "source": [
        "movies=(\"rrr\",\"jai lava kusa\",\"simha\")\n",
        "print(movies[0:3])"
      ],
      "metadata": {
        "colab": {
          "base_uri": "https://localhost:8080/"
        },
        "id": "T8mWx-1pyY4E",
        "outputId": "0952bd03-f83c-4cd6-9467-a0c9abf93c03"
      },
      "execution_count": 20,
      "outputs": [
        {
          "output_type": "stream",
          "name": "stdout",
          "text": [
            "('rrr', 'jai lava kusa', 'simha')\n"
          ]
        }
      ]
    },
    {
      "cell_type": "code",
      "source": [
        "movies=(\"rrr\",\"jai lava kusa\",\"simha\")\n",
        "print(movies[2:])"
      ],
      "metadata": {
        "colab": {
          "base_uri": "https://localhost:8080/"
        },
        "id": "UtRV7i8Zyruk",
        "outputId": "dbc3760d-b275-4152-b690-f29bab980ef9"
      },
      "execution_count": 22,
      "outputs": [
        {
          "output_type": "stream",
          "name": "stdout",
          "text": [
            "('simha',)\n"
          ]
        }
      ]
    },
    {
      "cell_type": "code",
      "source": [
        "## range of negative indexes\n"
      ],
      "metadata": {
        "id": "MhfeNuM-yxc0"
      },
      "execution_count": 23,
      "outputs": []
    },
    {
      "cell_type": "code",
      "source": [
        "movies=(\"rrr\",\"jai lava kusa\",\"simha\")\n",
        "print(movies[-3:-1])"
      ],
      "metadata": {
        "colab": {
          "base_uri": "https://localhost:8080/"
        },
        "id": "DhIwS_UXy58k",
        "outputId": "c898a8f0-fc62-4e54-9b57-65614869f8b4"
      },
      "execution_count": 26,
      "outputs": [
        {
          "output_type": "stream",
          "name": "stdout",
          "text": [
            "('rrr', 'jai lava kusa')\n"
          ]
        }
      ]
    },
    {
      "cell_type": "code",
      "source": [
        "## check if item is there"
      ],
      "metadata": {
        "id": "kDJY3LMWy9Z0"
      },
      "execution_count": 27,
      "outputs": []
    },
    {
      "cell_type": "code",
      "source": [
        "movies=(\"rrr\",\"jai lava kusa\",\"simha\")\n",
        "if \"rrr\" in movies:\n",
        "   print (\"yes\")"
      ],
      "metadata": {
        "colab": {
          "base_uri": "https://localhost:8080/"
        },
        "id": "rvzoUkHCzOT0",
        "outputId": "e10ea1fe-2be4-44bc-a179-5fb80965cd49"
      },
      "execution_count": 29,
      "outputs": [
        {
          "output_type": "stream",
          "name": "stdout",
          "text": [
            "yes\n"
          ]
        }
      ]
    },
    {
      "cell_type": "code",
      "source": [
        "## change tuple values"
      ],
      "metadata": {
        "id": "jllAyFKL0Bxj"
      },
      "execution_count": 30,
      "outputs": []
    },
    {
      "cell_type": "code",
      "source": [
        "movies=(\"rrr\",\"jai lava kusa\",\"simha\")\n",
        "y=list(movies)\n",
        "y[2]=\"bhanu\"\n",
        "movies=tuple(y)\n",
        "\n",
        "print(movies)\n"
      ],
      "metadata": {
        "colab": {
          "base_uri": "https://localhost:8080/"
        },
        "id": "DGS1FDuc0EcU",
        "outputId": "51985e28-2806-47a5-ba99-7b747b77e9a9"
      },
      "execution_count": 31,
      "outputs": [
        {
          "output_type": "stream",
          "name": "stdout",
          "text": [
            "('rrr', 'jai lava kusa', 'bhanu')\n"
          ]
        }
      ]
    },
    {
      "cell_type": "code",
      "source": [
        "## adding items"
      ],
      "metadata": {
        "id": "VFTIjgBS0Waz"
      },
      "execution_count": 32,
      "outputs": []
    },
    {
      "cell_type": "code",
      "source": [
        "x=(\"bhanu\",\"dhanush\",\"anitha\",\"rakshitha\",\"bhavana\")\n",
        "y=list(x)\n",
        "y.append(\"srikanth\")\n",
        "x=tuple(y)\n",
        "print(x)"
      ],
      "metadata": {
        "colab": {
          "base_uri": "https://localhost:8080/"
        },
        "id": "QKBlo5pJ0f6D",
        "outputId": "0bf231a2-7801-4c22-e90d-cc8d21b5b2bb"
      },
      "execution_count": 38,
      "outputs": [
        {
          "output_type": "stream",
          "name": "stdout",
          "text": [
            "('bhanu', 'dhanush', 'anitha', 'rakshitha', 'bhavana', 'srikanth')\n"
          ]
        }
      ]
    },
    {
      "cell_type": "code",
      "source": [
        "## add  tuple to tuple"
      ],
      "metadata": {
        "id": "FrtNk_Kp1hrs"
      },
      "execution_count": null,
      "outputs": []
    },
    {
      "cell_type": "code",
      "source": [
        "x=(\"bhanu\",\"dhanush\",\"anitha\",\"rakshitha\",\"bhavana\")\n",
        "y=(2,)\n",
        "x +=y\n",
        "print(x)"
      ],
      "metadata": {
        "colab": {
          "base_uri": "https://localhost:8080/"
        },
        "id": "XYs4CYwP1AWD",
        "outputId": "b3f95f8d-11fd-4afa-ea0f-49017866fda6"
      },
      "execution_count": 45,
      "outputs": [
        {
          "output_type": "stream",
          "name": "stdout",
          "text": [
            "('bhanu', 'dhanush', 'anitha', 'rakshitha', 'bhavana', 2)\n"
          ]
        }
      ]
    },
    {
      "cell_type": "code",
      "source": [
        "## remove items"
      ],
      "metadata": {
        "id": "NZvHgjv92QQ8"
      },
      "execution_count": null,
      "outputs": []
    },
    {
      "cell_type": "code",
      "source": [
        "x=(\"bhanu\",\"dhanush\",\"anitha\",\"rakshitha\",\"bhavana\")\n",
        "y=list(x)\n",
        "y.remove(\"bhanu\")\n",
        "x=tuple(y)\n",
        "print(x)"
      ],
      "metadata": {
        "colab": {
          "base_uri": "https://localhost:8080/"
        },
        "id": "5luHUu4I1XCD",
        "outputId": "93d2d19a-0089-4aac-98a3-03ae3aa918d5"
      },
      "execution_count": 43,
      "outputs": [
        {
          "output_type": "stream",
          "name": "stdout",
          "text": [
            "('dhanush', 'anitha', 'rakshitha', 'bhavana')\n"
          ]
        }
      ]
    },
    {
      "cell_type": "code",
      "source": [
        ""
      ],
      "metadata": {
        "id": "VxykxIUR10MS"
      },
      "execution_count": null,
      "outputs": []
    }
  ]
}