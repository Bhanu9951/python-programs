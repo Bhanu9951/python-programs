{
  "nbformat": 4,
  "nbformat_minor": 0,
  "metadata": {
    "colab": {
      "name": "python lists ",
      "provenance": [],
      "authorship_tag": "ABX9TyPwuVVLbqCJQDsSow20819Q",
      "include_colab_link": true
    },
    "kernelspec": {
      "name": "python3",
      "display_name": "Python 3"
    },
    "language_info": {
      "name": "python"
    }
  },
  "cells": [
    {
      "cell_type": "markdown",
      "metadata": {
        "id": "view-in-github",
        "colab_type": "text"
      },
      "source": [
        "<a href=\"https://colab.research.google.com/github/Bhanu9951/python-programs/blob/main/python_lists.ipynb\" target=\"_parent\"><img src=\"https://colab.research.google.com/assets/colab-badge.svg\" alt=\"Open In Colab\"/></a>"
      ]
    },
    {
      "cell_type": "code",
      "execution_count": 2,
      "metadata": {
        "colab": {
          "base_uri": "https://localhost:8080/"
        },
        "id": "Xd-NL_04nCjb",
        "outputId": "deed93ec-68a5-4d62-b597-baa63c72370d"
      },
      "outputs": [
        {
          "output_type": "stream",
          "name": "stdout",
          "text": [
            "['apple', 'banana', 'orange', 'pineapple']\n"
          ]
        }
      ],
      "source": [
        "## printing list\n",
        "fruit=[\"apple\",\"banana\",\"orange\",\"pineapple\"]\n",
        "print(fruit)"
      ]
    },
    {
      "cell_type": "markdown",
      "source": [
        "## Accessing list\n"
      ],
      "metadata": {
        "id": "mLS4YFj5nSkK"
      }
    },
    {
      "cell_type": "code",
      "source": [
        "\n",
        "fruit=[\"apple\",\"banana\",\"orange\",\"pineapple\"]\n",
        "print(fruit)\n",
        "\n",
        "#PRINT THE FIRST ITEM OF THE LIST\n",
        "print(fruit[0])\n",
        "\n",
        "#NEGATIVE INDEXING\n",
        "print(fruit[-1])\n",
        "\n",
        "#RANGE OF INDEXES\n",
        "print(fruit[0:2])\n",
        "print(fruit[:2])\n",
        "print(fruit[1:2])\n",
        "print(fruit[1:])\n",
        "print(fruit[3:])"
      ],
      "metadata": {
        "colab": {
          "base_uri": "https://localhost:8080/"
        },
        "id": "MABhdlFsnRMk",
        "outputId": "b11bc295-b115-4fe6-ffec-794f545cd7cb"
      },
      "execution_count": 4,
      "outputs": [
        {
          "output_type": "stream",
          "name": "stdout",
          "text": [
            "['apple', 'banana', 'orange', 'pineapple']\n",
            "apple\n",
            "pineapple\n",
            "['apple', 'banana']\n",
            "['apple', 'banana']\n",
            "['banana']\n",
            "['banana', 'orange', 'pineapple']\n",
            "['pineapple']\n"
          ]
        }
      ]
    },
    {
      "cell_type": "markdown",
      "source": [
        "## chaining list items\n"
      ],
      "metadata": {
        "id": "hNr7gQeXnfuB"
      }
    },
    {
      "cell_type": "code",
      "source": [
        "fruit=[\"apple\",\"banana\",\"orange\",\"pineapple\",]\n",
        "print(fruit)\n",
        "fruit[2:3]=[\"watermelon\"]\n",
        "print(fruit)\n",
        "fruit[2:3]=[\"papaya\",\"kiwi\"]\n",
        "print(fruit)\n"
      ],
      "metadata": {
        "colab": {
          "base_uri": "https://localhost:8080/"
        },
        "id": "C4UljmdinnlW",
        "outputId": "42612827-01bc-4194-aa57-901e1c20f7ca"
      },
      "execution_count": 6,
      "outputs": [
        {
          "output_type": "stream",
          "name": "stdout",
          "text": [
            "['apple', 'banana', 'orange', 'pineapple']\n",
            "['apple', 'banana', 'watermelon', 'pineapple']\n",
            "['apple', 'banana', 'papaya', 'kiwi', 'pineapple']\n"
          ]
        }
      ]
    },
    {
      "cell_type": "markdown",
      "source": [
        "## extending the item"
      ],
      "metadata": {
        "id": "ilplsKdtntjl"
      }
    },
    {
      "cell_type": "code",
      "source": [
        "fruit=[\"apple\",\"banana\",\"orange\",\"pineapple\"]\n",
        "print(fruit)\n",
        "fruit[2:4]=\"papaya\"\n",
        "print(fruit)"
      ],
      "metadata": {
        "colab": {
          "base_uri": "https://localhost:8080/"
        },
        "id": "sDbrf3_rnsvY",
        "outputId": "da11a406-7bee-43ff-bb65-f3a29c4c1e05"
      },
      "execution_count": 7,
      "outputs": [
        {
          "output_type": "stream",
          "name": "stdout",
          "text": [
            "['apple', 'banana', 'orange', 'pineapple']\n",
            "['apple', 'banana', 'p', 'a', 'p', 'a', 'y', 'a']\n"
          ]
        }
      ]
    },
    {
      "cell_type": "markdown",
      "source": [
        "## add list items"
      ],
      "metadata": {
        "id": "JyV9baA2n5bj"
      }
    },
    {
      "cell_type": "code",
      "source": [
        "fruit=[\"apple\",\"banana\",\"orange\",\"pineapple\"]\n",
        "print(fruit)\n",
        "\n",
        "#APPEND\n",
        "fruit.append(\"papaya\")\n",
        "print(fruit)\n",
        "\n",
        "#INSERTING\n",
        "fruit.insert(4,\"guava\")\n",
        "print(fruit)\n",
        "fruit.insert(1,\"kiwi\")\n",
        "print(fruit)\n",
        "\n",
        "#EXTENDING THE LIST\n",
        "extra=(\"watermelon\",\"papaya\")\n",
        "fruit.extend(extra)\n",
        "print(fruit)"
      ],
      "metadata": {
        "colab": {
          "base_uri": "https://localhost:8080/"
        },
        "id": "G47f8MLCn-V7",
        "outputId": "67113b09-34d6-46fc-d113-d028994f02df"
      },
      "execution_count": 9,
      "outputs": [
        {
          "output_type": "stream",
          "name": "stdout",
          "text": [
            "['apple', 'banana', 'orange', 'pineapple']\n",
            "['apple', 'banana', 'orange', 'pineapple', 'papaya']\n",
            "['apple', 'banana', 'orange', 'pineapple', 'guava', 'papaya']\n",
            "['apple', 'kiwi', 'banana', 'orange', 'pineapple', 'guava', 'papaya']\n",
            "['apple', 'kiwi', 'banana', 'orange', 'pineapple', 'guava', 'papaya', 'watermelon', 'papaya']\n"
          ]
        }
      ]
    },
    {
      "cell_type": "markdown",
      "source": [
        "## removing list items"
      ],
      "metadata": {
        "id": "B_Cew4sXoFM6"
      }
    },
    {
      "cell_type": "code",
      "source": [
        "fruit=[\"apple\",\"banana\",\"orange\",\"pineapple\"]\n",
        "print(fruit)\n",
        "\n",
        "#REMOVING LIST ITEM\n",
        "fruit.remove(\"orange\")\n",
        "print(fruit)\n",
        "\n",
        "#POP AND REMOVE ARE SAME\n",
        "fruit.pop(1)\n",
        "print(fruit)\n",
        "\n",
        "#DELETE\n",
        "del fruit[0]\n",
        "print(fruit)\n",
        "\n",
        "#CLEARING THE LIST \n",
        "fruit.clear()\n",
        "print(fruit)"
      ],
      "metadata": {
        "colab": {
          "base_uri": "https://localhost:8080/"
        },
        "id": "78mqlZIpoD5n",
        "outputId": "e84714b6-4281-47a6-ca82-f4ad1c567394"
      },
      "execution_count": 12,
      "outputs": [
        {
          "output_type": "stream",
          "name": "stdout",
          "text": [
            "['apple', 'banana', 'orange', 'pineapple']\n",
            "['apple', 'banana', 'pineapple']\n",
            "['apple', 'pineapple']\n",
            "['pineapple']\n",
            "[]\n"
          ]
        }
      ]
    },
    {
      "cell_type": "markdown",
      "source": [
        "##loop list"
      ],
      "metadata": {
        "id": "9f-cR5DAoTPl"
      }
    },
    {
      "cell_type": "code",
      "source": [
        "fruit=[\"apple\",\"banana\",\"orange\"]\n",
        "print(fruit)\n",
        "\n",
        "#FOR LOOP\n",
        "for x in fruit:\n",
        "  print(x)\n",
        "\n",
        "  #RANGE\n",
        "  for i in range(len(fruit)):\n",
        "    print(fruit[1])\n",
        "\n",
        "    #WHILE LOOP\n",
        "    i=0\n",
        "    while i < len(fruit):\n",
        "      print(fruit[i])\n",
        "      i=i+1\n",
        "\n",
        "      #FOR LOOP\n",
        "      [print(x) for x in fruit]"
      ],
      "metadata": {
        "id": "z5XExPvzoRty"
      },
      "execution_count": null,
      "outputs": []
    },
    {
      "cell_type": "markdown",
      "source": [
        "## list of comprension"
      ],
      "metadata": {
        "id": "vecu1bkkoeSG"
      }
    },
    {
      "cell_type": "code",
      "source": [
        "fruit=[\"apple\",\"watermelon\",\"papaya\"]\n",
        "newlist=[x for x in fruit if \"y\" in x]\n",
        "print(newlist)\n",
        "\n",
        "newlist=[x for x in fruit if x !=\"apple\"]\n",
        "print(newlist)\n",
        "\n",
        "newlist=[x for x in fruit]\n",
        "print(newlist)\n",
        "\n",
        "newlist=[x for x in range(11)]\n",
        "print(newlist)\n",
        "\n",
        "newlist=[x for x in range(9) if x<5]\n",
        "print(newlist)\n",
        "\n",
        "newlist=[x.upper()for x in fruit]\n",
        "print(newlist)\n",
        "\n",
        "newlist=['hello' for x in fruit]\n",
        "print(newlist)\n",
        "\n",
        "newlist=[x if x !=\"apple\" else \"papaya\"  for x in fruit]\n",
        "print(newlist)"
      ],
      "metadata": {
        "colab": {
          "base_uri": "https://localhost:8080/"
        },
        "id": "7bB2MShfoZKc",
        "outputId": "2308fafa-2b12-4e13-c67a-744ec90e0f87"
      },
      "execution_count": 14,
      "outputs": [
        {
          "output_type": "stream",
          "name": "stdout",
          "text": [
            "['papaya']\n",
            "['watermelon', 'papaya']\n",
            "['apple', 'watermelon', 'papaya']\n",
            "[0, 1, 2, 3, 4, 5, 6, 7, 8, 9, 10]\n",
            "[0, 1, 2, 3, 4]\n",
            "['APPLE', 'WATERMELON', 'PAPAYA']\n",
            "['hello', 'hello', 'hello']\n",
            "['papaya', 'watermelon', 'papaya']\n"
          ]
        }
      ]
    },
    {
      "cell_type": "markdown",
      "source": [
        "## sort list"
      ],
      "metadata": {
        "id": "RjU0Q_7Konyu"
      }
    },
    {
      "cell_type": "code",
      "source": [
        "# SORT ALPH\n",
        "fruit=[\"apple\",\"pineapple\",\"orange\",\"banana\",\"guava\"]\n",
        "fruit.sort()\n",
        "print(fruit)\n",
        "\n",
        "#SORT NUMERICALLY\n",
        "numbers=[\"10\",\"40\",\"143\",\"33\",\"28\"]\n",
        "numbers.sort()\n",
        "print(numbers)\n",
        "\n",
        "#SORT DESCENDING\n",
        "fruit=[\"apple\",\"pineapple\",\"orange\",\"banana\",\"guava\"]\n",
        "fruit.sort(reverse = True)\n",
        "print(numbers)\n",
        "\n",
        "#CUSTOMISE SORT FUNCTION\n",
        "def myfunc(n):\n",
        "  return abs(n - 50)\n",
        "  numbers = [10,40,143,33,28]\n",
        "  numbers.sort(key=myfunc)\n",
        "  print(numbers)\n",
        "\n",
        "  #CASE INSENSTIVE SORT\n",
        "  fruit =[\"apple\",\"pineapple\",\"orange\",\"banana\",\"guava\"]\n",
        "  fruit.reverse()\n",
        "  print(fruit)"
      ],
      "metadata": {
        "colab": {
          "base_uri": "https://localhost:8080/"
        },
        "id": "pCRqOAaRomZ-",
        "outputId": "ba9cd523-fb83-48a6-9a5e-13080ead4731"
      },
      "execution_count": 15,
      "outputs": [
        {
          "output_type": "stream",
          "name": "stdout",
          "text": [
            "['apple', 'banana', 'guava', 'orange', 'pineapple']\n",
            "['10', '143', '28', '33', '40']\n",
            "['10', '143', '28', '33', '40']\n"
          ]
        }
      ]
    },
    {
      "cell_type": "markdown",
      "source": [
        "## copy list"
      ],
      "metadata": {
        "id": "Nhdz27M7owpL"
      }
    },
    {
      "cell_type": "code",
      "source": [
        "#COPY A LIST\n",
        "fruit = [\"apple\",\"banana\",\"orange\"]\n",
        "mylist=fruit.copy()\n",
        "print(mylist)\n",
        "\n",
        "mylist=list(fruit)\n",
        "print(mylist)"
      ],
      "metadata": {
        "colab": {
          "base_uri": "https://localhost:8080/"
        },
        "id": "Ck75_I-Fosq2",
        "outputId": "817a8264-e7a1-474e-e073-9e61ae43a4ab"
      },
      "execution_count": 16,
      "outputs": [
        {
          "output_type": "stream",
          "name": "stdout",
          "text": [
            "['apple', 'banana', 'orange']\n",
            "['apple', 'banana', 'orange']\n"
          ]
        }
      ]
    },
    {
      "cell_type": "markdown",
      "source": [
        "## jion lists"
      ],
      "metadata": {
        "id": "ucTY0PlGo_Ps"
      }
    },
    {
      "cell_type": "code",
      "source": [
        "#JOIN TWO LISTS\n",
        "a=[\"d\",\"e\",\"f\"]\n",
        "b=[1,2,3]\n",
        "c=a+b\n",
        "print(c)\n",
        "\n",
        "a=[\"d\",\"e\",\"f\"]\n",
        "b=[1,2,3]\n",
        "for x in b:\n",
        "  a.append(x)\n",
        "  print(a)\n",
        "\n",
        "  #EXTEND\n",
        "  a=[\"d\",\"e\",\"f\"]\n",
        "  b=[1,2,3]\n",
        "  a.extend(b)\n",
        "  print(a)"
      ],
      "metadata": {
        "id": "Zl3eAl4wpC9m"
      },
      "execution_count": null,
      "outputs": []
    }
  ]
}