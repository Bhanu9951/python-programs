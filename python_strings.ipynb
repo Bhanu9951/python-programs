{
  "nbformat": 4,
  "nbformat_minor": 0,
  "metadata": {
    "colab": {
      "name": "python strings",
      "provenance": [],
      "authorship_tag": "ABX9TyPZZmO5cZTTHK+08TNdvJfB",
      "include_colab_link": true
    },
    "kernelspec": {
      "name": "python3",
      "display_name": "Python 3"
    },
    "language_info": {
      "name": "python"
    }
  },
  "cells": [
    {
      "cell_type": "markdown",
      "metadata": {
        "id": "view-in-github",
        "colab_type": "text"
      },
      "source": [
        "<a href=\"https://colab.research.google.com/github/Bhanu9951/python-programs/blob/main/python_strings.ipynb\" target=\"_parent\"><img src=\"https://colab.research.google.com/assets/colab-badge.svg\" alt=\"Open In Colab\"/></a>"
      ]
    },
    {
      "cell_type": "markdown",
      "source": [
        "##  Modify strings:"
      ],
      "metadata": {
        "id": "SBpXtAQaYRV2"
      }
    },
    {
      "cell_type": "markdown",
      "source": [
        "## upper case"
      ],
      "metadata": {
        "id": "Ms_Pj3e5YZGs"
      }
    },
    {
      "cell_type": "code",
      "source": [
        "a=\"RRR movie has been released\"\n",
        "print(a.upper())"
      ],
      "metadata": {
        "colab": {
          "base_uri": "https://localhost:8080/"
        },
        "id": "9p4nX7M4YThV",
        "outputId": "60789106-283e-47fb-f841-23ed74660f27"
      },
      "execution_count": 2,
      "outputs": [
        {
          "output_type": "stream",
          "name": "stdout",
          "text": [
            "RRR MOVIE HAS BEEN RELEASED\n"
          ]
        }
      ]
    },
    {
      "cell_type": "markdown",
      "source": [
        "## lower case"
      ],
      "metadata": {
        "id": "z7b7y-9HY_8l"
      }
    },
    {
      "cell_type": "code",
      "source": [
        "a=\"RRR movie has been released\"\n",
        "print(a.lower())"
      ],
      "metadata": {
        "colab": {
          "base_uri": "https://localhost:8080/"
        },
        "id": "DFAmMQScY_YF",
        "outputId": "a86cd98f-b6e7-48eb-bb09-ae7ee902b675"
      },
      "execution_count": 4,
      "outputs": [
        {
          "output_type": "stream",
          "name": "stdout",
          "text": [
            "rrr movie has been released\n"
          ]
        }
      ]
    },
    {
      "cell_type": "markdown",
      "source": [
        "## remove white space"
      ],
      "metadata": {
        "id": "jT3iA-hYZGh2"
      }
    },
    {
      "cell_type": "code",
      "source": [
        "a=              \"      RRR movie has been released   \"\n",
        "print(a.strip()) "
      ],
      "metadata": {
        "colab": {
          "base_uri": "https://localhost:8080/"
        },
        "id": "edw1CN_NZF7e",
        "outputId": "ec839c51-c0d6-49e1-d419-8736f8cc4387"
      },
      "execution_count": 10,
      "outputs": [
        {
          "output_type": "stream",
          "name": "stdout",
          "text": [
            "RRR movie has been released\n"
          ]
        }
      ]
    },
    {
      "cell_type": "markdown",
      "source": [
        "## replace string"
      ],
      "metadata": {
        "id": "ty2Q1nMxaTa9"
      }
    },
    {
      "cell_type": "code",
      "source": [
        "a=\"RRR movie has been released\"\n",
        "print(a.replace(\"RRR movie has been released\", \"MUNNABHAI\"))\n",
        "print(a.replace(\"R\", \"E\"))\n"
      ],
      "metadata": {
        "colab": {
          "base_uri": "https://localhost:8080/"
        },
        "id": "n6nTa__daS8H",
        "outputId": "ba54dc82-60d1-4a66-d27d-6e65f7f9549e"
      },
      "execution_count": 15,
      "outputs": [
        {
          "output_type": "stream",
          "name": "stdout",
          "text": [
            "MUNNABHAI\n",
            "EEE movie has been released\n"
          ]
        }
      ]
    },
    {
      "cell_type": "markdown",
      "source": [
        "## split strings"
      ],
      "metadata": {
        "id": "gAaZgzSMcXBG"
      }
    },
    {
      "cell_type": "code",
      "source": [
        "a=\"RRR, movie has been released\"\n",
        "print(a.split(\",\")) \n",
        "print(a.split())"
      ],
      "metadata": {
        "colab": {
          "base_uri": "https://localhost:8080/"
        },
        "id": "g5V0ffuicVUf",
        "outputId": "d80a0f8d-88c2-4725-cfcf-02dbe47c1eca"
      },
      "execution_count": 20,
      "outputs": [
        {
          "output_type": "stream",
          "name": "stdout",
          "text": [
            "['RRR', ' movie has been released']\n",
            "['RRR,', 'movie', 'has', 'been', 'released']\n"
          ]
        }
      ]
    },
    {
      "cell_type": "markdown",
      "source": [
        "##String Concatenation"
      ],
      "metadata": {
        "id": "19I821zfeKQf"
      }
    },
    {
      "cell_type": "code",
      "source": [
        "a=\"RRR movie has been released\"\n",
        "b=\" I went to movie with freinds \"\n",
        "c = a + \" \" + b\n",
        "print(c)\n",
        "a=\"123\"\n",
        "b=\"hello\"\n",
        "c=a+b\n",
        "print(c)"
      ],
      "metadata": {
        "colab": {
          "base_uri": "https://localhost:8080/"
        },
        "id": "lO2Vjddrd1-_",
        "outputId": "70988b44-dbbd-4c58-de24-08ecf09b7a61"
      },
      "execution_count": 23,
      "outputs": [
        {
          "output_type": "stream",
          "name": "stdout",
          "text": [
            "RRR movie has been released  I went to movie with freinds \n",
            "123hello\n"
          ]
        }
      ]
    },
    {
      "cell_type": "code",
      "source": [
        "price=250\n",
        "quantity=3\n",
        "item=1\n",
        "name=\"sting\"\n",
        "myorder= \"i buyed {3} with {0} having {1} and purchased {2}\"\n",
        "print(myorder.format(price,quantity,item,name))"
      ],
      "metadata": {
        "colab": {
          "base_uri": "https://localhost:8080/"
        },
        "id": "hsxnNcxthlLR",
        "outputId": "a79f9b0b-5248-4e01-9e66-7d5607c46830"
      },
      "execution_count": 25,
      "outputs": [
        {
          "output_type": "stream",
          "name": "stdout",
          "text": [
            "i buyed sting with 250 having 3 and purchased 1\n"
          ]
        }
      ]
    },
    {
      "cell_type": "code",
      "source": [
        "sub1=int(input(\"enter marks of maths\"))\n",
        "sub2=int(input(\"enter marks of chemistry\"))\n",
        "sub3=int(input(\"enter marks of physics\"))\n",
        "sub4=int(input(\"enter marks of english\"))\n",
        "marks=\"my maths marks are {0},chemistry marks are {1}, physics marks are {2}, english marks are {3}\"\n",
        "print(marks.format(sub1,sub2,sub3,sub4))\n"
      ],
      "metadata": {
        "id": "BOck30GIj3V6"
      },
      "execution_count": null,
      "outputs": []
    },
    {
      "cell_type": "code",
      "source": [
        ""
      ],
      "metadata": {
        "id": "quANe87XmSga"
      },
      "execution_count": null,
      "outputs": []
    }
  ]
}