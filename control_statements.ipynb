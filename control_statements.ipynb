{
  "nbformat": 4,
  "nbformat_minor": 0,
  "metadata": {
    "colab": {
      "name": "control statements.ipynb",
      "provenance": [],
      "authorship_tag": "ABX9TyN6sDTWhUAGcR3yD1Y3S6oH",
      "include_colab_link": true
    },
    "kernelspec": {
      "name": "python3",
      "display_name": "Python 3"
    },
    "language_info": {
      "name": "python"
    }
  },
  "cells": [
    {
      "cell_type": "markdown",
      "metadata": {
        "id": "view-in-github",
        "colab_type": "text"
      },
      "source": [
        "<a href=\"https://colab.research.google.com/github/Bhanu9951/python-programs/blob/main/control_statements.ipynb\" target=\"_parent\"><img src=\"https://colab.research.google.com/assets/colab-badge.svg\" alt=\"Open In Colab\"/></a>"
      ]
    },
    {
      "cell_type": "code",
      "execution_count": 5,
      "metadata": {
        "colab": {
          "base_uri": "https://localhost:8080/",
          "height": 0
        },
        "id": "3SXMBzumpY8a",
        "outputId": "bac2dd1b-a7b6-4598-929a-42db4501f236"
      },
      "outputs": [
        {
          "output_type": "stream",
          "name": "stdout",
          "text": [
            "you are not eligible\n"
          ]
        }
      ],
      "source": [
        "a=20\n",
        "if a>20:\n",
        "  print(\"you eligible for voting\")\n",
        "else:\n",
        "     print(\"you are not eligible\")"
      ]
    },
    {
      "cell_type": "code",
      "source": [
        "a=int(input(\"enter your age\"))\n",
        "if a>18:\n",
        "    print(\"you are eligible for voting\")\n",
        "\n",
        "else:\n",
        "    print(\"you are not eligible for voting\")"
      ],
      "metadata": {
        "colab": {
          "base_uri": "https://localhost:8080/",
          "height": 0
        },
        "id": "jL5D6IbNrjGl",
        "outputId": "9374ea93-50b3-4f32-aa59-6106aedca9c3"
      },
      "execution_count": 6,
      "outputs": [
        {
          "output_type": "stream",
          "name": "stdout",
          "text": [
            "enter your age19\n",
            "you are eligible for voting\n"
          ]
        }
      ]
    },
    {
      "cell_type": "code",
      "source": [
        "a=int(input(\"a)enter your number\"))\n",
        "b=int(input(\"b)enter your number\"))\n",
        "c=int(input(\"c)enter your number\"))\n",
        "d=int(input(\"d)enter your number\"))\n",
        "e=int(input(\"e)enter your number\"))\n",
        "if a>b and a>c and a>d and a>e:\n",
        "      print(\"a is greater\")\n",
        "elif b>a and b>c and b>d and b>e:\n",
        "      print(\"b is greater\")\n",
        "elif c>a and c>b and c>d and c>e:\n",
        "      print(\"c is greater\")\n",
        "elif d>a and d>b and d>c and d>e:\n",
        "      print(\"d is greater\")\n",
        "else:\n",
        "           print(\"e is greater\")\n"
      ],
      "metadata": {
        "colab": {
          "base_uri": "https://localhost:8080/",
          "height": 0
        },
        "id": "AIbMrLBVsbfe",
        "outputId": "5ed5217e-6019-446d-e767-e44dffaac318"
      },
      "execution_count": 10,
      "outputs": [
        {
          "output_type": "stream",
          "name": "stdout",
          "text": [
            "a)enter your number56\n",
            "b)enter your number6\n",
            "c)enter your number6\n",
            "d)enter your number32\n",
            "e)enter your number59\n",
            "e is greater\n"
          ]
        }
      ]
    },
    {
      "cell_type": "code",
      "source": [
        ""
      ],
      "metadata": {
        "id": "yGTJy9SQyhCl"
      },
      "execution_count": null,
      "outputs": []
    }
  ]
}