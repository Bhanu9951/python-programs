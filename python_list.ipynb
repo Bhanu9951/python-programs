{
  "nbformat": 4,
  "nbformat_minor": 0,
  "metadata": {
    "colab": {
      "name": "python list",
      "provenance": [],
      "authorship_tag": "ABX9TyP50ApwOXeDHOuC+BjTg66r",
      "include_colab_link": true
    },
    "kernelspec": {
      "name": "python3",
      "display_name": "Python 3"
    },
    "language_info": {
      "name": "python"
    }
  },
  "cells": [
    {
      "cell_type": "markdown",
      "metadata": {
        "id": "view-in-github",
        "colab_type": "text"
      },
      "source": [
        "<a href=\"https://colab.research.google.com/github/Bhanu9951/python-programs/blob/main/python_list.ipynb\" target=\"_parent\"><img src=\"https://colab.research.google.com/assets/colab-badge.svg\" alt=\"Open In Colab\"/></a>"
      ]
    },
    {
      "cell_type": "code",
      "execution_count": 8,
      "metadata": {
        "colab": {
          "base_uri": "https://localhost:8080/"
        },
        "id": "ABdyCUDisd-l",
        "outputId": "606b8510-446b-481a-df14-ced1271bd6eb"
      },
      "outputs": [
        {
          "output_type": "stream",
          "name": "stdout",
          "text": [
            "['key', 'pen', 'bottle']\n",
            "['bottle', 'key', 'pen']\n",
            "['key', 'pen']\n",
            "['bottle', 'key', 'pen', 'mobile case']\n"
          ]
        }
      ],
      "source": [
        "things = [\"key\", \"pen\", \"bottle\"]\n",
        "mylist = list(things)\n",
        "print(mylist)\n",
        "## sorting of alphabets\n",
        "things.sort()\n",
        "print(things)\n",
        "## rearrenging\n",
        "print(things[1:3])\n",
        "## adding to list\n",
        "things.append(\"mobile case\")\n",
        "print(things)\n",
        "\n",
        "\n",
        "\n"
      ]
    },
    {
      "cell_type": "code",
      "source": [
        "## string\n",
        "a=\"bhanu\"\n",
        "print(a)\n",
        "print(type(a))\n",
        "print(a[1])"
      ],
      "metadata": {
        "colab": {
          "base_uri": "https://localhost:8080/"
        },
        "id": "lzxEhNxg7VJ1",
        "outputId": "49afee6a-5d16-44fc-e485-213f729bf9b2"
      },
      "execution_count": 10,
      "outputs": [
        {
          "output_type": "stream",
          "name": "stdout",
          "text": [
            "bhanu\n",
            "<class 'str'>\n",
            "h\n"
          ]
        }
      ]
    },
    {
      "cell_type": "code",
      "source": [
        "a=\"bhanu\"\n",
        "print(len(a))"
      ],
      "metadata": {
        "colab": {
          "base_uri": "https://localhost:8080/"
        },
        "id": "BGPfbRFD8Aqj",
        "outputId": "22320f80-2b7c-475a-c56f-6f7877efee73"
      },
      "execution_count": 12,
      "outputs": [
        {
          "output_type": "stream",
          "name": "stdout",
          "text": [
            "5\n"
          ]
        }
      ]
    },
    {
      "cell_type": "code",
      "source": [
        "\n",
        "## finding lenght\n",
        "a=\" hello bhanu\"\n",
        "print(len(a))"
      ],
      "metadata": {
        "colab": {
          "base_uri": "https://localhost:8080/"
        },
        "id": "8UMWFImv8Ta8",
        "outputId": "0e61d4f7-272f-484a-f268-4477d418c8ec"
      },
      "execution_count": 16,
      "outputs": [
        {
          "output_type": "stream",
          "name": "stdout",
          "text": [
            "12\n"
          ]
        }
      ]
    },
    {
      "cell_type": "code",
      "source": [
        "## to find that word is there or not\n",
        "a=\"vizag gadda ntr adda\"\n",
        "print(\"ntr\" in a)"
      ],
      "metadata": {
        "colab": {
          "base_uri": "https://localhost:8080/"
        },
        "id": "AdtZsY0F8p1l",
        "outputId": "5a30820e-debf-410b-d319-c3adfa5cbc77"
      },
      "execution_count": 17,
      "outputs": [
        {
          "output_type": "stream",
          "name": "stdout",
          "text": [
            "True\n"
          ]
        }
      ]
    },
    {
      "cell_type": "code",
      "source": [
        "## slicing\n",
        "a=\"ballayya is our emotion\"\n",
        "print(a[2:5])"
      ],
      "metadata": {
        "colab": {
          "base_uri": "https://localhost:8080/"
        },
        "id": "X6oNFS3W9rDE",
        "outputId": "89c6b8c0-5422-4e18-a2d1-9970a3b56f06"
      },
      "execution_count": 18,
      "outputs": [
        {
          "output_type": "stream",
          "name": "stdout",
          "text": [
            "lla\n"
          ]
        }
      ]
    }
  ]
}