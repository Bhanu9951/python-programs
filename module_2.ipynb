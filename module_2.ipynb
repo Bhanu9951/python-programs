{
  "nbformat": 4,
  "nbformat_minor": 0,
  "metadata": {
    "colab": {
      "name": "module 2.ipynb",
      "provenance": [],
      "authorship_tag": "ABX9TyMqMdMJ3gJp1lnbc53NmhXw",
      "include_colab_link": true
    },
    "kernelspec": {
      "name": "python3",
      "display_name": "Python 3"
    },
    "language_info": {
      "name": "python"
    }
  },
  "cells": [
    {
      "cell_type": "markdown",
      "metadata": {
        "id": "view-in-github",
        "colab_type": "text"
      },
      "source": [
        "<a href=\"https://colab.research.google.com/github/Bhanu9951/python-programs/blob/main/module_2.ipynb\" target=\"_parent\"><img src=\"https://colab.research.google.com/assets/colab-badge.svg\" alt=\"Open In Colab\"/></a>"
      ]
    },
    {
      "cell_type": "code",
      "execution_count": null,
      "metadata": {
        "id": "EANDkEgnmQJX"
      },
      "outputs": [],
      "source": [
        "##Create a function which accepts two inputs from the user and compute nCr\n",
        "def nCr (a,b):\n",
        "  return(fact(a)//(fact(b)\n",
        "                   *fact(a-b)))\n",
        "a=int(input(\"\"))\n",
        "b=int(input(\"\"))\n",
        "def fact(a):\n",
        "    res=1\n",
        "    for i in range(2,a+1):\n",
        "      res =res*i\n",
        "    return res\n",
        "print(int(nCr(a,b)))"
      ]
    },
    {
      "cell_type": "code",
      "source": [
        "##Program to print a specified list after removing the 0th, 4th and 5th elements.\n",
        "##Sample List : ['Red', 'Green', 'White', 'Black', 'Pink', 'Yellow']\n",
        "##Expected Output : ['Green', 'White', 'Black']"
      ],
      "metadata": {
        "id": "UWwl6_ZJsEqx"
      },
      "execution_count": null,
      "outputs": []
    }
  ]
}