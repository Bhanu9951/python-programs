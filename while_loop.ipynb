{
  "nbformat": 4,
  "nbformat_minor": 0,
  "metadata": {
    "colab": {
      "name": "while loop.ipynb",
      "provenance": [],
      "authorship_tag": "ABX9TyPaDrYvhk2VYKhTQ1b09n2w",
      "include_colab_link": true
    },
    "kernelspec": {
      "name": "python3",
      "display_name": "Python 3"
    },
    "language_info": {
      "name": "python"
    }
  },
  "cells": [
    {
      "cell_type": "markdown",
      "metadata": {
        "id": "view-in-github",
        "colab_type": "text"
      },
      "source": [
        "<a href=\"https://colab.research.google.com/github/Bhanu9951/python-programs/blob/main/while_loop.ipynb\" target=\"_parent\"><img src=\"https://colab.research.google.com/assets/colab-badge.svg\" alt=\"Open In Colab\"/></a>"
      ]
    },
    {
      "cell_type": "code",
      "execution_count": 2,
      "metadata": {
        "colab": {
          "base_uri": "https://localhost:8080/"
        },
        "id": "xRNPfA6ALlzW",
        "outputId": "787d396c-459d-4b1d-baa3-8ea502851e66"
      },
      "outputs": [
        {
          "output_type": "stream",
          "name": "stdout",
          "text": [
            "Input lengths of the triangle sides: \n",
            "x: 50\n",
            "y: 50\n",
            "z: 50\n",
            "Equilateral triangle\n"
          ]
        }
      ],
      "source": [
        "## check wheather the triangle is equilateral , isosceles or scalen triangle\n",
        "print(\"Input lengths of the triangle sides: \")\n",
        "x = int(input(\"x: \"))\n",
        "y = int(input(\"y: \"))\n",
        "z = int(input(\"z: \"))\n",
        "\n",
        "if x == y == z:\n",
        "\tprint(\"Equilateral triangle\")\n",
        "elif x==y or y==z or z==x:\n",
        "\tprint(\"isosceles triangle\")\n",
        "else:\n",
        "\tprint(\"Scalene triangle\")"
      ]
    },
    {
      "cell_type": "code",
      "source": [
        "## year is leap year or not\n",
        "year = int(input(\"Enter Year: \"))\n",
        "\n",
        "# Leap Year Check\n",
        "if year % 4 == 0 and year % 100 != 0:\n",
        "    print(year, \"is a Leap Year\")\n",
        "elif year % 100 == 0:\n",
        "    print(year, \"is not a Leap Year\")\n",
        "elif year % 400 ==0:\n",
        "    print(year, \"is a Leap Year\")\n",
        "else:\n",
        "    print(year, \"is not a Leap Year\")"
      ],
      "metadata": {
        "colab": {
          "base_uri": "https://localhost:8080/"
        },
        "id": "ucY-qZbSPlaW",
        "outputId": "9d3ee46a-aeeb-46ba-90ba-00dc1590c1f5"
      },
      "execution_count": 7,
      "outputs": [
        {
          "output_type": "stream",
          "name": "stdout",
          "text": [
            "Enter Year: 2014\n",
            "2014 is not a Leap Year\n"
          ]
        }
      ]
    },
    {
      "cell_type": "code",
      "source": [
        "## find minimum of three numbers\n",
        "n1 = int (input (\"Enter the 1st number: \"))\n",
        "n2 = int (input (\"Enter the 2nd number: \"))\n",
        "n3 = int (input (\"Enter the 3rd number: \"))\n",
        "\n",
        "if (n1 < n2):\n",
        "    if (n1 < n3):\n",
        "        print (\"1st number is the smallest number\")\n",
        "    else:\n",
        "        print (\"3rd number is the smallest number\")\n",
        "elif (n2 < n3):\n",
        "    print (\"2nd number is the smallest nuumber\")\n",
        "else:\n",
        "    print (\"3rd number is the smallest number\")"
      ],
      "metadata": {
        "colab": {
          "base_uri": "https://localhost:8080/"
        },
        "id": "u2AIIegsTLZt",
        "outputId": "801eeec5-3efa-4129-c817-47969216d1b0"
      },
      "execution_count": 8,
      "outputs": [
        {
          "output_type": "stream",
          "name": "stdout",
          "text": [
            "Enter the 1st number: 5\n",
            "Enter the 2nd number: 6\n",
            "Enter the 3rd number: 7\n",
            "1st number is the smallest number\n"
          ]
        }
      ]
    }
  ]
}