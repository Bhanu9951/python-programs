{
  "nbformat": 4,
  "nbformat_minor": 0,
  "metadata": {
    "colab": {
      "name": "module 1",
      "provenance": [],
      "authorship_tag": "ABX9TyN6HG/R6J6higc1FSy1YTtI",
      "include_colab_link": true
    },
    "kernelspec": {
      "name": "python3",
      "display_name": "Python 3"
    },
    "language_info": {
      "name": "python"
    }
  },
  "cells": [
    {
      "cell_type": "markdown",
      "metadata": {
        "id": "view-in-github",
        "colab_type": "text"
      },
      "source": [
        "<a href=\"https://colab.research.google.com/github/Bhanu9951/python-programs/blob/main/module_1.ipynb\" target=\"_parent\"><img src=\"https://colab.research.google.com/assets/colab-badge.svg\" alt=\"Open In Colab\"/></a>"
      ]
    },
    {
      "cell_type": "code",
      "execution_count": null,
      "metadata": {
        "id": "uldPaz2XdY4o"
      },
      "outputs": [],
      "source": [
        "## Accept input from user and store it in variable and print the value"
      ]
    },
    {
      "cell_type": "code",
      "source": [
        "a=100\n",
        "b=20\n",
        "c=int(input())\n",
        "d=int(input())\n",
        "f=a-(b)-(c)-(d)\n",
        "print(f)\n"
      ],
      "metadata": {
        "colab": {
          "base_uri": "https://localhost:8080/"
        },
        "id": "fsl-fQAcdus7",
        "outputId": "e48261f7-292f-488a-cba5-4824088ec744"
      },
      "execution_count": null,
      "outputs": [
        {
          "output_type": "stream",
          "name": "stdout",
          "text": [
            "41\n",
            "50\n",
            "-11\n"
          ]
        }
      ]
    },
    {
      "cell_type": "code",
      "source": [
        "##Printing all even numbers, odd numbers, count of even numbers, count of odd numbers \n",
        "for a in range(101,200,2):\n",
        "  print(a)"
      ],
      "metadata": {
        "id": "hLc8iqNfekbC"
      },
      "execution_count": null,
      "outputs": []
    },
    {
      "cell_type": "code",
      "source": [
        "#USE OF PRINT STATEMENTS AND USE OF (.format) FOR PRINTING DIFFERENT DATA TYPES\n",
        "price=150\n",
        "quantity=3\n",
        "item=1\n",
        "name=\"Thumpsup\"\n",
        "myorder=\"I bought {3} with {0} having {1} and purchased {2}\"\n",
        "print(myorder.format(price,quantity,item,name))"
      ],
      "metadata": {
        "id": "Nef1AO-6OzLT",
        "outputId": "2268a15d-0849-482d-b40d-51fe7ff57a2e",
        "colab": {
          "base_uri": "https://localhost:8080/"
        }
      },
      "execution_count": 1,
      "outputs": [
        {
          "output_type": "stream",
          "name": "stdout",
          "text": [
            "I bought Thumpsup with 150 having 3 and purchased 1\n"
          ]
        }
      ]
    },
    {
      "cell_type": "code",
      "source": [
        "##Take 2 numbers as user input and add, multiply, divide, subtract, remainder and print\n",
        "a=float(input(\"enter a number\"))\n",
        "b=float(input(\"enter a number\"))\n",
        "c=a+b\n",
        "d=a-b\n",
        "e=a*b\n",
        "f=a/b\n",
        "g=a%b\n",
        "print(\"sum= \",c)\n",
        "print(\"subtract= \",d)\n",
        "print(\"product= \",e)\n",
        "print(\"division= \",f)\n",
        "print(\"remainder= \",g)\n",
        "\n"
      ],
      "metadata": {
        "colab": {
          "base_uri": "https://localhost:8080/"
        },
        "id": "gk2AcfKVep58",
        "outputId": "2716c412-0a79-430c-ed5d-986ecfaf4c8a"
      },
      "execution_count": null,
      "outputs": [
        {
          "output_type": "stream",
          "name": "stdout",
          "text": [
            "enter a number50\n",
            "enter a number60\n",
            "sum=  110.0\n",
            "subtract=  -10.0\n",
            "product=  3000.0\n",
            "division=  0.8333333333333334\n",
            "remainder=  50.0\n"
          ]
        }
      ]
    },
    {
      "cell_type": "code",
      "source": [
        "##Accepting 5 different subject marks from user and displaying the grade of the student"
      ],
      "metadata": {
        "id": "I8WMcrDpgt63"
      },
      "execution_count": null,
      "outputs": []
    },
    {
      "cell_type": "code",
      "source": [
        "a=int(input(\"maths marks=\"))\n",
        "b=int(input(\"cse marks=\"))\n",
        "c=int(input(\"eng marks=\"))\n",
        "d=int(input(\"phy marks=\"))\n",
        "e=int(input(\"social marks=\"))\n",
        "if(a+b+c+d+e)>=450:\n",
        "  print(\"a grade\")\n",
        "elif (a+b+c+d+e)>=400 and (a+b+c+d+e)<=450:\n",
        "    print(\"b grade\")\n",
        "else:\n",
        "      print(\"c grade\")"
      ],
      "metadata": {
        "colab": {
          "base_uri": "https://localhost:8080/"
        },
        "id": "UaqEdsCFg0V_",
        "outputId": "cbcf2f8c-c0e4-475a-dd49-afcb5673efdd"
      },
      "execution_count": null,
      "outputs": [
        {
          "output_type": "stream",
          "name": "stdout",
          "text": [
            "maths marks=99\n",
            "cse marks=99\n",
            "eng marks=99\n",
            "phy marks=99\n",
            "social marks=9\n",
            "b grade\n"
          ]
        }
      ]
    },
    {
      "cell_type": "code",
      "source": [
        "#Conversion of one unit to another (such as hours to minutes, miles to km and etc)\n",
        "a=float(input(\"enter hours\"))\n",
        "print(\"minutes are= \",a*60)\n",
        "b=float(input(\"enter miles\"))\n",
        "print(\"km are= \",b*1.6)"
      ],
      "metadata": {
        "colab": {
          "base_uri": "https://localhost:8080/"
        },
        "id": "XBF1egBDkR4C",
        "outputId": "46ecb749-1e3a-4df0-81f4-ac09179483f0"
      },
      "execution_count": null,
      "outputs": [
        {
          "output_type": "stream",
          "name": "stdout",
          "text": [
            "enter hours9\n",
            "minutes are=  540.0\n",
            "enter miles63\n",
            "km are=  100.80000000000001\n"
          ]
        }
      ]
    },
    {
      "cell_type": "code",
      "source": [
        "#Usage of mathematical functions in python like math.ceil, floor, fabs, fmod, trunc,\n",
        "#pow, sqrt etc\n",
        "import math\n",
        "a=float(input(\"enter a number \"))\n",
        "print(math.ceil(a))\n",
        "print(math.floor(a))\n",
        "print(math.fabs(a))\n",
        "print(math.trunc(a))\n",
        "print(math.sqrt(a))\n",
        "b=float(input(\"enter a number\"))\n",
        "c=float(input(\"enter a number \"))\n",
        "print(math.fmod(b,c))\n",
        "print(math.pow(b,c))"
      ],
      "metadata": {
        "colab": {
          "base_uri": "https://localhost:8080/"
        },
        "id": "0_M8SVHUkveS",
        "outputId": "9b10e7ac-0979-4a58-99e6-0f6d1a2d5b69"
      },
      "execution_count": null,
      "outputs": [
        {
          "output_type": "stream",
          "name": "stdout",
          "text": [
            "enter a number 50\n",
            "50\n",
            "50\n",
            "50.0\n",
            "50\n",
            "7.0710678118654755\n",
            "enter a number60\n",
            "enter a number 60\n",
            "0.0\n",
            "4.887367798068926e+106\n"
          ]
        }
      ]
    },
    {
      "cell_type": "code",
      "source": [
        "#Building a mathematical calculator that can perform operations according to user input.\n",
        "#Use decision making statement.\n",
        "a=float(input(\"enter number \"))\n",
        "b=float(input(\"enter a number \"))\n",
        "o=input(\"enter opeation\")\n",
        "if o==\"sum\":\n",
        "  print(a+b)\n",
        "elif o==\"subtract\":\n",
        "  print(a-b)\n",
        "elif o==\"product\":\n",
        "  print(a*b)\n",
        "elif o==\"remainder\":\n",
        "  print(a%b)\n",
        "else:\n",
        "  print(a/b)\n"
      ],
      "metadata": {
        "id": "hvWarmC2mE7C"
      },
      "execution_count": null,
      "outputs": []
    },
    {
      "cell_type": "code",
      "source": [
        "##\n",
        ".Compute GCD of two given \n",
        "a=int(input(\"enter a number\"))\n",
        "b=int(input(\"enter a number\"))\n",
        "k=a if a<b else b\n",
        "while True:\n",
        "    if a%k==0 and b%k==0:\n",
        "     break\n",
        "    k -=1\n",
        "print(k)"
      ],
      "metadata": {
        "colab": {
          "base_uri": "https://localhost:8080/"
        },
        "id": "gbjB0cPumdLT",
        "outputId": "d1d6d56f-a0db-4a67-e702-6710ebb0c856"
      },
      "execution_count": null,
      "outputs": [
        {
          "output_type": "stream",
          "name": "stdout",
          "text": [
            "enter a number60\n",
            "enter a number30\n",
            "30\n"
          ]
        }
      ]
    },
    {
      "cell_type": "code",
      "source": [
        "\n",
        "#Compute the factorial of a given number.\n",
        "n=int(input(\"enter a number \"))\n",
        "fac=1\n",
        "for i in range(1,n+1):\n",
        "  fac=fac*i\n",
        "\n",
        "print(fac)\n"
      ],
      "metadata": {
        "id": "6JAukhKuojwL"
      },
      "execution_count": null,
      "outputs": []
    },
    {
      "cell_type": "code",
      "source": [
        "##Printing all even numbers, odd numbers, count of even numbers, count of odd numbers\n",
        "#within a given range.\n",
        "n=int(input(\"enter range \"))\n",
        "c=0\n",
        "for i in range(1,n+1):\n",
        " if i%2==0:\n",
        "   c+=1\n",
        "   print(i)"
      ],
      "metadata": {
        "id": "TROW6JLjpJh9"
      },
      "execution_count": null,
      "outputs": []
    }
  ]
}