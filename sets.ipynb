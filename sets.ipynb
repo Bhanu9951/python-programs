{
  "nbformat": 4,
  "nbformat_minor": 0,
  "metadata": {
    "colab": {
      "name": "sets.ipynb",
      "provenance": [],
      "authorship_tag": "ABX9TyOGeKXk+6kjPF3Sp5sMNMTx",
      "include_colab_link": true
    },
    "kernelspec": {
      "name": "python3",
      "display_name": "Python 3"
    },
    "language_info": {
      "name": "python"
    }
  },
  "cells": [
    {
      "cell_type": "markdown",
      "metadata": {
        "id": "view-in-github",
        "colab_type": "text"
      },
      "source": [
        "<a href=\"https://colab.research.google.com/github/Bhanu9951/python-programs/blob/main/sets.ipynb\" target=\"_parent\"><img src=\"https://colab.research.google.com/assets/colab-badge.svg\" alt=\"Open In Colab\"/></a>"
      ]
    },
    {
      "cell_type": "markdown",
      "source": [
        "##Get the Length of a Set"
      ],
      "metadata": {
        "id": "5gnOALLUNYW4"
      }
    },
    {
      "cell_type": "code",
      "execution_count": 2,
      "metadata": {
        "colab": {
          "base_uri": "https://localhost:8080/"
        },
        "id": "DHajoB7DNKrm",
        "outputId": "09f9bc59-2f4b-470f-975f-7355f18e807b"
      },
      "outputs": [
        {
          "output_type": "stream",
          "name": "stdout",
          "text": [
            "5\n"
          ]
        }
      ],
      "source": [
        "names={\"avi\",\"gowtham\",\"dhanush\",\"bhanu\",\"kumba\"}\n",
        "print(len(names))\n"
      ]
    },
    {
      "cell_type": "markdown",
      "source": [
        "## type()"
      ],
      "metadata": {
        "id": "cXOZ09BwPM1A"
      }
    },
    {
      "cell_type": "code",
      "source": [
        "names={\"avi\",\"gowtham\",\"dhanush\",\"bhanu\",\"kumba\"}\n",
        "print(type(names))\n"
      ],
      "metadata": {
        "colab": {
          "base_uri": "https://localhost:8080/"
        },
        "id": "-XyIhKj8O6qx",
        "outputId": "8e977da1-d2f1-496e-9782-45ee33fbf0a7"
      },
      "execution_count": 4,
      "outputs": [
        {
          "output_type": "stream",
          "name": "stdout",
          "text": [
            "<class 'set'>\n"
          ]
        }
      ]
    },
    {
      "cell_type": "code",
      "source": [
        "##Check if \"banana\" is present in the set:"
      ],
      "metadata": {
        "id": "ysXA_ueVPn_Q"
      },
      "execution_count": 5,
      "outputs": []
    },
    {
      "cell_type": "code",
      "source": [
        "names={\"avi\",\"gowtham\",\"dhanush\",\"bhanu\",\"kumba\"}\n",
        "print(\"kesav\" in names)"
      ],
      "metadata": {
        "colab": {
          "base_uri": "https://localhost:8080/"
        },
        "id": "QKftVQ6vP4CP",
        "outputId": "044b7c61-08e3-4dd0-ae21-66da52905f07"
      },
      "execution_count": 7,
      "outputs": [
        {
          "output_type": "stream",
          "name": "stdout",
          "text": [
            "False\n"
          ]
        }
      ]
    },
    {
      "cell_type": "markdown",
      "source": [
        "##Add Items"
      ],
      "metadata": {
        "id": "I76NAHnMQJh_"
      }
    },
    {
      "cell_type": "code",
      "source": [
        "names={\"avi\",\"gowtham\",\"dhanush\",\"bhanu\",\"kumba\"}\n",
        "names.add(\"sameer\")\n",
        "print(names)"
      ],
      "metadata": {
        "colab": {
          "base_uri": "https://localhost:8080/"
        },
        "id": "CJ2ztLznQJAh",
        "outputId": "641c3d24-b331-4dc8-f325-1cefb7404338"
      },
      "execution_count": 8,
      "outputs": [
        {
          "output_type": "stream",
          "name": "stdout",
          "text": [
            "{'dhanush', 'bhanu', 'kumba', 'sameer', 'avi', 'gowtham'}\n"
          ]
        }
      ]
    },
    {
      "cell_type": "markdown",
      "source": [
        "##Add Sets"
      ],
      "metadata": {
        "id": "YyWzVmytQfFg"
      }
    },
    {
      "cell_type": "code",
      "source": [
        "names={\"avi\",\"gowtham\",\"dhanush\",\"bhanu\",\"kumba\"}\n",
        "fruits = {\"pineapple\", \"mango\", \"papaya\"}\n",
        "names.update(fruits)\n",
        "print(names)"
      ],
      "metadata": {
        "colab": {
          "base_uri": "https://localhost:8080/"
        },
        "id": "oNzSTiFcQZaf",
        "outputId": "9a0bba06-74a9-42d7-8dd3-5a7ee98632f2"
      },
      "execution_count": 11,
      "outputs": [
        {
          "output_type": "stream",
          "name": "stdout",
          "text": [
            "{'dhanush', 'bhanu', 'kumba', 'mango', 'avi', 'papaya', 'gowtham', 'pineapple'}\n"
          ]
        }
      ]
    },
    {
      "cell_type": "markdown",
      "source": [
        "##Add Any Iterable"
      ],
      "metadata": {
        "id": "w7Avlk3uRtIg"
      }
    },
    {
      "cell_type": "code",
      "source": [
        "names={\"avi\",\"gowtham\",\"dhanush\",\"bhanu\",\"kumba\"}\n",
        "things = [\"laptop\", \"bottle\"]\n",
        "names.update(things)\n",
        "print(names)\n"
      ],
      "metadata": {
        "colab": {
          "base_uri": "https://localhost:8080/"
        },
        "id": "lTsGlMY6Rf-h",
        "outputId": "cf25c533-9fbf-4838-8887-d99b0032b90e"
      },
      "execution_count": 13,
      "outputs": [
        {
          "output_type": "stream",
          "name": "stdout",
          "text": [
            "{'dhanush', 'bhanu', 'kumba', 'bottle', 'avi', 'laptop', 'gowtham'}\n"
          ]
        }
      ]
    },
    {
      "cell_type": "markdown",
      "source": [
        "##Remove Item"
      ],
      "metadata": {
        "id": "0rpXtJkfSQCi"
      }
    },
    {
      "cell_type": "code",
      "source": [
        "names={\"avi\",\"gowtham\",\"dhanush\",\"bhanu\",\"kumba\"}\n",
        "names.remove(\"kumba\")\n",
        "print(names)"
      ],
      "metadata": {
        "colab": {
          "base_uri": "https://localhost:8080/"
        },
        "id": "P7uQpm-SSPfY",
        "outputId": "d555f640-7bd3-44bb-c5d6-d0c3512f0b11"
      },
      "execution_count": 14,
      "outputs": [
        {
          "output_type": "stream",
          "name": "stdout",
          "text": [
            "{'dhanush', 'bhanu', 'avi', 'gowtham'}\n"
          ]
        }
      ]
    },
    {
      "cell_type": "markdown",
      "source": [
        "## another keyword to remove item"
      ],
      "metadata": {
        "id": "KoA55QX6SsuX"
      }
    },
    {
      "cell_type": "code",
      "source": [
        "names={\"avi\",\"gowtham\",\"dhanush\",\"bhanu\",\"kumba\"}\n",
        "names.discard(\"kumba\")\n",
        "print(names)"
      ],
      "metadata": {
        "colab": {
          "base_uri": "https://localhost:8080/"
        },
        "id": "oelC2NM2Sfqg",
        "outputId": "96286c68-885e-45c4-f88a-5d063086e740"
      },
      "execution_count": 15,
      "outputs": [
        {
          "output_type": "stream",
          "name": "stdout",
          "text": [
            "{'dhanush', 'bhanu', 'avi', 'gowtham'}\n"
          ]
        }
      ]
    },
    {
      "cell_type": "code",
      "source": [
        "##Remove the last item by using the pop() method:\n",
        "\n",
        "names={\"avi\",\"gowtham\",\"dhanush\",\"bhanu\",\"kumba\"}\n",
        "x=names.pop()\n",
        "print(x)\n",
        "print(names)\n"
      ],
      "metadata": {
        "colab": {
          "base_uri": "https://localhost:8080/"
        },
        "id": "0D3BcTeWSqeg",
        "outputId": "25c44b89-b153-4899-fc39-ff2a1417dbb0"
      },
      "execution_count": 20,
      "outputs": [
        {
          "output_type": "stream",
          "name": "stdout",
          "text": [
            "dhanush\n",
            "{'bhanu', 'kumba', 'avi', 'gowtham'}\n"
          ]
        }
      ]
    },
    {
      "cell_type": "markdown",
      "source": [
        "##Loop Items"
      ],
      "metadata": {
        "id": "StNGiBP9Xo2I"
      }
    },
    {
      "cell_type": "code",
      "source": [
        "\n",
        "names={\"avi\",\"gowtham\",\"dhanush\",\"bhanu\",\"kumba\"}\n",
        "for x in names:\n",
        "  print(x)"
      ],
      "metadata": {
        "colab": {
          "base_uri": "https://localhost:8080/"
        },
        "id": "RnFvaVRrS8sh",
        "outputId": "1fffe763-e359-4fa4-e50d-8ed588f7925b"
      },
      "execution_count": 21,
      "outputs": [
        {
          "output_type": "stream",
          "name": "stdout",
          "text": [
            "dhanush\n",
            "bhanu\n",
            "kumba\n",
            "avi\n",
            "gowtham\n"
          ]
        }
      ]
    },
    {
      "cell_type": "markdown",
      "source": [
        "##Join Two Sets"
      ],
      "metadata": {
        "id": "FGPFuNOhY_Rx"
      }
    },
    {
      "cell_type": "code",
      "source": [
        ""
      ],
      "metadata": {
        "id": "W4-3SZwUXUPx"
      },
      "execution_count": null,
      "outputs": []
    }
  ]
}