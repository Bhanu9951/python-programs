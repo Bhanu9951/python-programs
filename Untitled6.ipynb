{
  "nbformat": 4,
  "nbformat_minor": 0,
  "metadata": {
    "colab": {
      "name": "Untitled6.ipynb",
      "provenance": [],
      "authorship_tag": "ABX9TyO35w69+YAPFflUVMEQO7Kt",
      "include_colab_link": true
    },
    "kernelspec": {
      "name": "python3",
      "display_name": "Python 3"
    },
    "language_info": {
      "name": "python"
    }
  },
  "cells": [
    {
      "cell_type": "markdown",
      "metadata": {
        "id": "view-in-github",
        "colab_type": "text"
      },
      "source": [
        "<a href=\"https://colab.research.google.com/github/Bhanu9951/python-programs/blob/main/Untitled6.ipynb\" target=\"_parent\"><img src=\"https://colab.research.google.com/assets/colab-badge.svg\" alt=\"Open In Colab\"/></a>"
      ]
    },
    {
      "cell_type": "code",
      "execution_count": 13,
      "metadata": {
        "colab": {
          "base_uri": "https://localhost:8080/"
        },
        "id": "dNRXEKUylAVZ",
        "outputId": "46a90385-4493-45cf-fa70-c8cffcba3b43"
      },
      "outputs": [
        {
          "output_type": "stream",
          "name": "stdout",
          "text": [
            "2 2\n",
            "with recursion= 4\n"
          ]
        }
      ],
      "source": [
        "##write a python program to find power of number with recursion and without recursion(input n=2 , p=3)\n",
        "def pow(x,y):\n",
        "   print(x**y)\n",
        "def pwr(x,y):\n",
        "  z=1\n",
        "  if y>1:\n",
        "    z=x*pwr(x,y-1)\n",
        "    return z\n",
        "  else:\n",
        "    return x\n",
        "a,b=map(int,input().split()) \n",
        "## pow(a,b)\n",
        "r=pwr(a,b)\n",
        "\n",
        "print(\"with recursion=\",r)\n"
      ]
    },
    {
      "cell_type": "code",
      "source": [
        "##write a program to sort tuple by total digits (input: list=[(3,4,6,723),(1,2),(134,234,34)])\n",
        "      ##output:[(1,2)(3,4,6,723)(34,134,234)]\n",
        "def count_digs(tup):\n",
        "      \n",
        "    # gets total digits in tuples\n",
        "    return sum([len(str(ele)) for ele in tup ])\n",
        "  \n",
        "# initializing list\n",
        "test_list = [(3, 4, 6, 723), (1, 2),(134, 234, 34)]\n",
        "  \n",
        "# printing original list\n",
        "print(\"The original list is : \" + str(test_list))\n",
        "  \n",
        "# performing sort \n",
        "test_list.sort(key = count_digs)\n",
        "for i in range(len(test_list)):\n",
        "  test_list[i]=sorted(test_list[i])\n",
        "\n",
        "  \n",
        "# printing result \n",
        "print(\"Sorted tuples : \" + str(test_list))"
      ],
      "metadata": {
        "colab": {
          "base_uri": "https://localhost:8080/"
        },
        "id": "yT0OnVSYmeUm",
        "outputId": "57c24786-1226-4b4c-9072-7ef1378df6ee"
      },
      "execution_count": 21,
      "outputs": [
        {
          "output_type": "stream",
          "name": "stdout",
          "text": [
            "The original list is : [(3, 4, 6, 723), (1, 2), (134, 234, 34)]\n",
            "Sorted tuples : [[1, 2], [3, 4, 6, 723], [34, 134, 234]]\n"
          ]
        }
      ]
    },
    {
      "cell_type": "code",
      "source": [
        "##take five subjects from the user and display the grade of the student,if average is 90-100(o),80-89(a+),70-79(a)...\n",
        "sub1=int(input(\"Enter marks of the first subject: \"))\n",
        "sub2=int(input(\"Enter marks of the second subject: \"))\n",
        "sub3=int(input(\"Enter marks of the third subject: \"))\n",
        "sub4=int(input(\"Enter marks of the fourth subject: \"))\n",
        "sub5=int(input(\"Enter marks of the fifth subject: \"))\n",
        "avg=(sub1+sub2+sub3+sub4+sub5)/5\n",
        "if(avg>=90):\n",
        "    print(\"Grade: A\")\n",
        "elif(avg>=80 and avg<90):\n",
        "    print(\"Grade: B\")\n",
        "elif(avg>=70 and avg<80):\n",
        "    print(\"Grade: C\")\n",
        "elif(avg>=60 and avg<70):\n",
        "    print(\"Grade: D\")\n",
        "else:\n",
        "    print(\"Grade: F\")"
      ],
      "metadata": {
        "id": "b1BSiGjNqOze"
      },
      "execution_count": null,
      "outputs": []
    },
    {
      "cell_type": "code",
      "source": [
        "##write a python program that prints 1 if all three given numbers are ascending order.\n",
        "a=int(input(\"enter a number:\"))\n",
        "b=int(input(\"enter a number:\"))\n",
        "c=int(input(\"enter a number:\"))\n",
        "if b!=a+1 or c!=b+1:\n",
        "  print(0)\n",
        "elif b==a+1 and c==b+1:\n",
        "  print(1)\n",
        "\n"
      ],
      "metadata": {
        "id": "Gr76xqWnujjO"
      },
      "execution_count": null,
      "outputs": []
    },
    {
      "cell_type": "code",
      "source": [
        "##check a given number is perfect number are not\n",
        "n=int(input(\"enter the number=\"))\n",
        "s=0\n",
        "for i in range(1,n):\n",
        "   if n%i==0:\n",
        "     s=s+i\n",
        "if s==n:\n",
        "    print(\"perfect number\")\n",
        "else:\n",
        "    print(\"not a perfect number\")\n"
      ],
      "metadata": {
        "colab": {
          "base_uri": "https://localhost:8080/"
        },
        "id": "el-U9EB8v_Al",
        "outputId": "549d0f7e-f500-4a04-ba3f-e0c3561989d2"
      },
      "execution_count": 28,
      "outputs": [
        {
          "output_type": "stream",
          "name": "stdout",
          "text": [
            "enter the number=52\n",
            "not a perfect number\n"
          ]
        }
      ]
    }
  ]
}